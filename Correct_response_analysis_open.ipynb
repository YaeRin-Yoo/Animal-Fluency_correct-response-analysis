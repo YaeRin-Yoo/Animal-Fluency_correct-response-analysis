{
  "nbformat": 4,
  "nbformat_minor": 0,
  "metadata": {
    "colab": {
      "provenance": [],
      "mount_file_id": "18-TgeybYS3vBWD4dg2bRAFJqd-rdSmkn",
      "authorship_tag": "ABX9TyO3mjLg/sZcvAE0FyaN8zZ8",
      "include_colab_link": true
    },
    "kernelspec": {
      "name": "python3",
      "display_name": "Python 3"
    },
    "language_info": {
      "name": "python"
    }
  },
  "cells": [
    {
      "cell_type": "markdown",
      "metadata": {
        "id": "view-in-github",
        "colab_type": "text"
      },
      "source": [
        "<a href=\"https://colab.research.google.com/github/YaeRin-Yoo/Animal-Fluency_correct-response-analysis/blob/main/Correct_response_analysis_open.ipynb\" target=\"_parent\"><img src=\"https://colab.research.google.com/assets/colab-badge.svg\" alt=\"Open In Colab\"/></a>"
      ]
    },
    {
      "cell_type": "code",
      "execution_count": 29,
      "metadata": {
        "id": "iw8tDomULABv"
      },
      "outputs": [],
      "source": [
        "import pandas as pd, numpy, csv"
      ]
    },
    {
      "cell_type": "markdown",
      "source": [
        "# 5개의 함수 생성\n",
        "\n",
        "정오 반응 체크를 위해 필요한 함수들을 만든 후, 각 함수를 돌고 나왔을 때 피험자가 말한 단어 별 정오 체크가 될 수 있도록 리스트 리턴 예정\n",
        "\n",
        "함수가 5개 있기 때문에, 각 함수의 리턴 값을 곱해서 0,1이 되게 할 예정\n",
        "\n",
        "함수 1 : 반복\n",
        "\n",
        "함수 2 : 범주 외 단어\n",
        "\n",
        "함수 3 : 상위어 - 하위어\n",
        "\n",
        "함수 4 : 동의어\n",
        "\n",
        "함수 5 : 성체 - 새끼"
      ],
      "metadata": {
        "id": "zLbatviiMNYm"
      }
    },
    {
      "cell_type": "code",
      "source": [
        "# check_repetition : 반복 검사\n",
        "\n",
        "# response : type (list) : 피험자 한 명에 대한 반응\n",
        "\n",
        "# word = 단어 하나 , last_words = word 전까지의 단어들\n",
        "\n",
        "def check_repetition (response) :\n",
        "  correction_1 = [1,]\n",
        "  for word in range (1, len(response)) :\n",
        "    for last_words in range (word) :\n",
        "      if response[word] == response [last_words] :\n",
        "        result = 0\n",
        "        break\n",
        "      else :\n",
        "        result = 1\n",
        "    correction_1.append(result)\n",
        "\n",
        "  return correction_1"
      ],
      "metadata": {
        "id": "8QPsYOnlMpjt"
      },
      "execution_count": 21,
      "outputs": []
    },
    {
      "cell_type": "code",
      "source": [
        "# check_non_animal : 범주 외 단어 검사\n",
        "\n",
        "# response : type (list) : 피험자 한 명에 대한 반응\n",
        "\n",
        "# word = 단어 하나\n",
        "\n",
        "# no_animal_list = 범주 외 단어로 엑셀 파일에서 추출\n",
        "\n",
        "DF = pd.read_csv('/content/drive/MyDrive/연구 코드/Animal fluency Kor 2024/csv/정리 inventory/all_data_241111.csv')\n",
        "no_animal_list= DF[DF['군집1']==8].iloc[:,1].values.tolist()\n",
        "animal_list = DF[DF['군집1']!=8].iloc[:,1].values.tolist()\n",
        "\n",
        "#print (no_animal_list)\n",
        "\n",
        "def check_non_animal (response) :\n",
        "  correction_2 = []\n",
        "  for word in response :\n",
        "    word = str(word)\n",
        "    if word in animal_list :\n",
        "      result = 1\n",
        "    elif word in no_animal_list :\n",
        "      result = 0\n",
        "    else :\n",
        "      result = '오류'\n",
        "    correction_2.append(result)\n",
        "\n",
        "  return correction_2"
      ],
      "metadata": {
        "id": "Lxk16yotPKfW"
      },
      "execution_count": 37,
      "outputs": []
    },
    {
      "cell_type": "code",
      "source": [
        "# 함수 2 범주 외 단어 test\n",
        "\n",
        "list1 = ['사자', '고기', '호랑이', '동물원', '이상해']\n",
        "\n",
        "print(check_non_animal (list1))"
      ],
      "metadata": {
        "colab": {
          "base_uri": "https://localhost:8080/"
        },
        "id": "FobzM1Y0REeQ",
        "outputId": "98ecc16d-b575-4bef-c3a3-75da5a5d30bb"
      },
      "execution_count": 38,
      "outputs": [
        {
          "output_type": "stream",
          "name": "stdout",
          "text": [
            "[1, 0, 1, 0, '오류']\n"
          ]
        }
      ]
    },
    {
      "cell_type": "code",
      "source": [
        "# 상-하위어 관계의 리스트 정리\n",
        "\n",
        "upper = ['가재', '가젤', '영양', '개', '개구리', '게', '고래', '곰', '공룡', '반려동물', '새', '포유류', '다람쥐', '도마뱀', '도룡뇽', '닭', '돼지', '말', '물고기', '생선',\n",
        "         '뱀', '벌레', '나비', '사슴', '독수리', '맹금류', '비둘기', '부엉이', '잉꼬', '오리', '양', '소', '양서류', '여우', '영양', '원숭이', '염소', '장어', '조개',\n",
        "         '쥐', '표범', '호랑이', '범', '토끼', '벌', '상어', '가오리', '조기', '노루']\n",
        "\n",
        "가재 = ['바닷가재']\n",
        "가젤 = ['톰슨가젤']\n",
        "영양 = ['톰슨가젤']\n",
        "개 = ['골든리트리버', '들개', '리트리버', '사냥개', '삽살개', '시츄', '아프리카들개', '진돗개', '치와와']\n",
        "개구리 = ['맹꽁이', '청개구리']\n",
        "게 = ['꽃게', '참게']\n",
        "고래 = ['범고래', '흰수염고래']\n",
        "곰 = ['반달가슴곰', '반달곰', '백곰', '북극곰', '불곰', '안경곰', '폴라베어']\n",
        "공룡 = ['티라노사우르스']\n",
        "반려동물 = DF[DF['군집1']==5].iloc[:,1].values.tolist()\n",
        "birda = DF[DF['군집2']==2].iloc[:,1].values.tolist()\n",
        "del birda [birda.index('새')]\n",
        "새 = birda\n",
        "포유류 = DF[DF['군집2']==4].iloc[:,1].values.tolist()\n",
        "다람쥐 = ['하늘다람쥐', '날다람쥐']\n",
        "도마뱀 = ['목도리도마뱀']\n",
        "도룡뇽 = ['우파루파']\n",
        "닭 = ['산닭', '수탉', '오골계', '토종닭']\n",
        "돼지 = ['산돼지', '흙돼지']\n",
        "말 = ['조랑말']\n",
        "fisha = DF[(DF['군집1']==2) & (DF['군집2']==5)].iloc[:,1].values.tolist()\n",
        "del fisha [fisha.index('물고기')]\n",
        "del fisha [fisha.index('생선')]\n",
        "del fisha [fisha.index('우파루파')]\n",
        "del fisha [fisha.index('해마')]\n",
        "물고기 = fisha\n",
        "생선 = fisha\n",
        "뱀 = ['구렁이', '독사', '비단뱀', '살모사', '코브라']\n",
        "buga = DF[(DF['군집1']==3) & (DF['군집2']==1)].iloc[:,1].values.tolist()\n",
        "del buga [buga.index('벌레')]\n",
        "벌레 = buga\n",
        "나비 = ['호랑나비']\n",
        "사슴 = ['꽃사슴']\n",
        "독수리 = ['대머리독수리']\n",
        "맹금류 = ['독수리', '대머리독수리', '말똥가리', '매', '부엉이', '뻐꾸기', '수리부엉이', '십자매', '알바트로스', '올빼미', '황조롱이']\n",
        "비둘기 = ['산비둘기']\n",
        "부엉이 = ['수리부엉이']\n",
        "잉꼬 = ['앵무새']\n",
        "오리 = ['원앙']\n",
        "양 = ['산양']\n",
        "소 = ['들소', '물소', '젖소', '황소', '얼룩소', '버팔로']\n",
        "양서류 = ['맹꽁이', '개구리', '도롱뇽', '두꺼비', '올챙이', '청개구리']\n",
        "여우 = ['북극여우', '사막여우', '티베트모래여우']\n",
        "영양 = ['가젤', '임팔라']\n",
        "원숭이 = ['개코원숭이']\n",
        "염소 = ['흑염소']\n",
        "장어 = ['뱀장어']\n",
        "조개 = ['홍합']\n",
        "쥐 = ['들쥐', '생쥐', '주머니쥐']\n",
        "표범 = ['흑표범']\n",
        "호랑이 = ['백호']\n",
        "범 = ['백호']\n",
        "토끼 = ['산토끼']\n",
        "벌 = ['꿀벌']\n",
        "상어 = ['백상아리']\n",
        "가오리 = ['만타가오리']\n",
        "조기 = ['참조기']\n",
        "노루 = ['사향노루']\n",
        "\n",
        "upper_list = [가재, 가젤, 영양, 개, 개구리, 게, 고래, 곰, 공룡, 반려동물, 새, 포유류, 다람쥐, 도마뱀, 도룡뇽, 닭, 돼지, 말, 물고기, 생선,\n",
        "         뱀, 벌레, 나비, 사슴, 독수리, 맹금류, 비둘기, 부엉이, 잉꼬, 오리, 양, 소, 양서류, 여우, 영양, 원숭이, 염소, 장어, 조개,\n",
        "         쥐, 표범, 호랑이, 범, 토끼, 벌, 상어, 가오리, 조기, 노루]"
      ],
      "metadata": {
        "id": "GSg2UnoyUspl"
      },
      "execution_count": 39,
      "outputs": []
    },
    {
      "cell_type": "code",
      "source": [
        "# check_relationship : 상-하위어 검사\n",
        "\n",
        "# response : type (list) : 피험자 한 명에 대한 반응\n",
        "\n",
        "# word = 단어 하나\n",
        "\n",
        "def check_relationship (response) :\n",
        "  correction_3 = []\n",
        "  for word in response :\n",
        "    word = str(word)\n",
        "    # 대상자 응답 내에 상위어가 존재할 때\n",
        "    if word in upper :\n",
        "      #상위어의 하위어 리스트와 대상자 응답 중 겹치는 부분 있는지 찾기\n",
        "      if len(list(set(response).intersection(upper_list[upper.index(word)]))) > 0 :\n",
        "        result = 0\n",
        "      else :\n",
        "        result = 1\n",
        "    else :\n",
        "      result = 1\n",
        "    correction_3.append(result)\n",
        "\n",
        "  return correction_3"
      ],
      "metadata": {
        "id": "AlmkU7LtPhlR"
      },
      "execution_count": 58,
      "outputs": []
    },
    {
      "cell_type": "code",
      "source": [
        "# 함수 3 상위어 하위어 test\n",
        "\n",
        "list1 = ['산닭', '호랑이', '사자', '닭', '말', '조랑말', '산양', '소', '돼지', '들소']\n",
        "\n",
        "list2 = ['고양이', '개', '물고기', '사자', '리트리버', '광어', '우럭', '조기', '참조기']\n",
        "\n",
        "list3 = ['강아지', '고양이', '오소리', '새', '치와와', '개']\n",
        "\n",
        "list4 = ['개', '강아지', '골든리트리버', '개', '사자', '호랑이', '범', '고기', '토끼', '고슴도치']\n",
        "\n",
        "print(check_relationship (list1), check_relationship (list2), check_relationship (list3))\n",
        "print(check_relationship(list4))"
      ],
      "metadata": {
        "colab": {
          "base_uri": "https://localhost:8080/"
        },
        "id": "Dmc98UC_e3L3",
        "outputId": "e68980fb-952a-43a2-d55a-caa66c150db5"
      },
      "execution_count": 59,
      "outputs": [
        {
          "output_type": "stream",
          "name": "stdout",
          "text": [
            "[1, 1, 1, 0, 0, 1, 1, 0, 1, 1] [1, 0, 0, 1, 1, 1, 1, 0, 1] [1, 1, 1, 1, 1, 0]\n",
            "[0, 1, 1, 0, 1, 1, 1, 1, 1, 1]\n"
          ]
        }
      ]
    },
    {
      "cell_type": "code",
      "source": [
        "# 동의어 리스트 정리\n",
        "\n",
        "syn1 = ['고냥이', '고니', '까투리', '나귀', '눈표범', '레오파드', '도미', '두루미', '땅쥐', '뜸북새',\n",
        "        '리트리버', '맘모스', '망둥어', '생선', '피쉬', '물곰', '반달가슴곰', '백곰', '버팔로', '범',\n",
        "        '성성이', '크로커다일', 'alligator', '얼룩소', '웜뱃', '이리', '잉꼬', '잔나비', '지브라',\n",
        "        '폴라베어', '플라밍고']\n",
        "\n",
        "syn2 = ['고양이', '백조', '꿩', '당나귀', '표범', '표범', '돔', '학', '두더지', '뜸부기',\n",
        "        '골든리트리버', '매머드', '망둑어', '물고기', '물고기', '꼼치', '반달곰', '북극곰', '물소', '호랑이',\n",
        "        '오랑우탄', '악어', '악어', '젖소', '오소리', '늑대', '앵무새', '원숭이', '얼룩말',\n",
        "        '북극곰', '홍학']\n",
        "\n"
      ],
      "metadata": {
        "id": "KdUmM7KpfNC1"
      },
      "execution_count": 42,
      "outputs": []
    },
    {
      "cell_type": "code",
      "source": [
        "# check_synonym : 동의어 검사\n",
        "\n",
        "# response : type (list) : 피험자 한 명에 대한 반응\n",
        "\n",
        "# word = 단어 하나\n",
        "\n",
        "# response 값에서 syn1에 있는지 확인하고, 해당 값의 index 넘버를 가진 syn2의 값이 response에도 존재한다면 result 0으로 추가\n",
        "\n",
        "def check_synonym (response) :\n",
        "  correction_4 = []\n",
        "  for word in response :\n",
        "    word = str(word)\n",
        "    if word in syn1 :\n",
        "      if syn2[syn1.index(word)] in response :\n",
        "        result = 0\n",
        "      else :\n",
        "        result = 1\n",
        "    else :\n",
        "      result = 1\n",
        "    correction_4.append(result)\n",
        "\n",
        "  return correction_4"
      ],
      "metadata": {
        "id": "AWGSK-OxogZu"
      },
      "execution_count": 43,
      "outputs": []
    },
    {
      "cell_type": "code",
      "source": [
        "# 함수 4 동의어 test\n",
        "\n",
        "list1 = ['개', '폴라베어', '북극곰', '악어', '크로커다일', '고양이', '피쉬', '물고기', '생선']\n",
        "\n",
        "check_synonym (list1)"
      ],
      "metadata": {
        "colab": {
          "base_uri": "https://localhost:8080/"
        },
        "id": "4IFvNC-CiqDl",
        "outputId": "f136c9df-0f51-4447-9bd3-12f6eb40f346"
      },
      "execution_count": 44,
      "outputs": [
        {
          "output_type": "execute_result",
          "data": {
            "text/plain": [
              "[1, 0, 1, 1, 0, 1, 0, 1, 0]"
            ]
          },
          "metadata": {},
          "execution_count": 44
        }
      ]
    },
    {
      "cell_type": "code",
      "source": [
        "#parent_child 리스트\n",
        "\n",
        "child = ['강아지', '올챙이', '구더기', '병아리', '송아지', '망아지', '애벌레']\n",
        "\n",
        "\n",
        "강아지 = ['개', '사냥개','골든리트리버', '들개', '리트리버', '삽살개', '시츄', '아프리카들개', '진돗개', '치와와']\n",
        "올챙이 = ['개구리', '맹꽁이', '두꺼비', '청개구리']\n",
        "구더기 = ['파리']\n",
        "병아리 = ['닭', '수탉', '오골계', '토종닭']\n",
        "송아지 = ['소', '들소', '물소', '젖소', '황소', '얼룩소', '버팔로']\n",
        "망아지 = ['말', '조랑말']\n",
        "애벌레 = ['나비', '호랑나비', '나방']\n",
        "\n",
        "child_list = [강아지, 올챙이, 구더기, 병아리, 송아지, 망아지, 애벌레]"
      ],
      "metadata": {
        "id": "YN9J5TAci-qV"
      },
      "execution_count": 45,
      "outputs": []
    },
    {
      "cell_type": "code",
      "source": [
        "# check_parent_child : 성체-새끼 검사\n",
        "\n",
        "# response : type (list) : 피험자 한 명에 대한 반응\n",
        "\n",
        "# word = 단어 하나\n",
        "\n",
        "# 대상자의 응답 내에 '새끼'가 존재할 때 , '성체'가 하나라도 존재한다면, '새끼'는 오반응\n",
        "\n",
        "def check_parent_child (response) :\n",
        "  correction_5 = []\n",
        "  for word in response :\n",
        "    word = str(word)\n",
        "    if word in child :\n",
        "      if len(list(set(response).intersection(child_list[child.index(word)]))) > 0 :\n",
        "        result = 0\n",
        "      else :\n",
        "        result = 1\n",
        "    else :\n",
        "      result = 1\n",
        "    correction_5.append(result)\n",
        "\n",
        "  return correction_5"
      ],
      "metadata": {
        "id": "V7zra-2Ll4dW"
      },
      "execution_count": 46,
      "outputs": []
    },
    {
      "cell_type": "code",
      "source": [
        "# 함수 5 성체-새끼 test\n",
        "\n",
        "list1 = ['들소', '송아지', '고양이', '사자', '닭', '병아리', '청개구리', '올챙이']\n",
        "\n",
        "check_parent_child (list1)"
      ],
      "metadata": {
        "colab": {
          "base_uri": "https://localhost:8080/"
        },
        "id": "5M9FgkrXmlp5",
        "outputId": "eaf47c9b-1290-4148-c5bd-38eb2a809090"
      },
      "execution_count": 47,
      "outputs": [
        {
          "output_type": "execute_result",
          "data": {
            "text/plain": [
              "[1, 0, 1, 1, 1, 0, 1, 0]"
            ]
          },
          "metadata": {},
          "execution_count": 47
        }
      ]
    },
    {
      "cell_type": "markdown",
      "source": [
        "# 5개의 함수 모두 생성 완료\n",
        "\n",
        "5개의 함수를 거쳐 계산 후 최종 수행력 값 산출하는 함수\n"
      ],
      "metadata": {
        "id": "5b4OpJaCnVls"
      }
    },
    {
      "cell_type": "code",
      "source": [
        "# 5개의 함수 계산 : calculate\n",
        "\n",
        "# 리턴 값 단어 당 0,1 표시된 리스트\n",
        "\n",
        "def calculate (response) :\n",
        "  a = check_repetition(response)\n",
        "  b = check_non_animal(response)\n",
        "\n",
        "  # 우리가 보유한 동물 inventory에 없는 값이 피험자의 응답에 있는 경우 계산을 위해 여기서 3으로 변경\n",
        "  bb = []\n",
        "  for word in b :\n",
        "    if word != '오류' :\n",
        "      bb.append(word)\n",
        "    else :\n",
        "      word = 3\n",
        "      bb.append(word)\n",
        "\n",
        "  c = check_relationship(response)\n",
        "  d = check_synonym (response)\n",
        "  e = check_parent_child (response)\n",
        "\n",
        "  ab = numpy.multiply(a,bb)\n",
        "  abc = numpy.multiply(ab,c)\n",
        "  abcd = numpy.multiply(abc,d)\n",
        "  abcde = numpy.multiply(abcd,e)\n",
        "\n",
        "  # 여기서 다시 동물 inventory list에 없는 경우 '오류'로 최종 기입되게 변경\n",
        "  calculation_result = []\n",
        "  for word in abcde :\n",
        "    if word != 3 :\n",
        "      calculation_result.append(word)\n",
        "    else :\n",
        "      word = '오류'\n",
        "      calculation_result.append(word)\n",
        "\n",
        "  return calculation_result\n"
      ],
      "metadata": {
        "id": "G-g3_S8XnPcm"
      },
      "execution_count": 61,
      "outputs": []
    },
    {
      "cell_type": "code",
      "source": [
        "# 최종 수행 점수 산출 : final_performance\n",
        "\n",
        "def final_performance (response) :\n",
        "  final_list = calculate (response)\n",
        "  result = 0\n",
        "\n",
        "  try :\n",
        "    for a in final_list :\n",
        "      result += a\n",
        "\n",
        "  except :\n",
        "    result = '오류'\n",
        "\n",
        "  return result"
      ],
      "metadata": {
        "id": "ub5v3D6zqxgv"
      },
      "execution_count": 55,
      "outputs": []
    },
    {
      "cell_type": "code",
      "source": [
        "# calculate test\n",
        "\n",
        "list1 = ['개', '강아지', '골든리트리버', '개', '사자', '호랑이', '범', '고기', '토끼', '고슴도치']\n",
        "\n",
        "calculate (list1)"
      ],
      "metadata": {
        "colab": {
          "base_uri": "https://localhost:8080/"
        },
        "id": "bV9jfB2upXbe",
        "outputId": "e5392bf4-6386-4b0a-cb58-fd5aa00b4e17"
      },
      "execution_count": 62,
      "outputs": [
        {
          "output_type": "execute_result",
          "data": {
            "text/plain": [
              "[0, 0, 1, 0, 1, 1, 0, 0, 1, 1]"
            ]
          },
          "metadata": {},
          "execution_count": 62
        }
      ]
    },
    {
      "cell_type": "code",
      "source": [
        "# 최종 수행 점수 산출 : final_performance test\n",
        "\n",
        "list1 = ['개', '강아지', '골든리트리버', '개', '사자', '호랑이', '범', '고기', '토끼', '고슴도치']\n",
        "\n",
        "final_performance (list1)"
      ],
      "metadata": {
        "colab": {
          "base_uri": "https://localhost:8080/"
        },
        "id": "dIF5pG6kswTN",
        "outputId": "7878b54f-4954-44ea-e83f-bb51a11f6a1b"
      },
      "execution_count": 63,
      "outputs": [
        {
          "output_type": "execute_result",
          "data": {
            "text/plain": [
              "5"
            ]
          },
          "metadata": {},
          "execution_count": 63
        }
      ]
    },
    {
      "cell_type": "code",
      "source": [],
      "metadata": {
        "id": "76mwY0db5Ixd"
      },
      "execution_count": null,
      "outputs": []
    }
  ]
}